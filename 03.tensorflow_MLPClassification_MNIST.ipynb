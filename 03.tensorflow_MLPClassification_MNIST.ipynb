{
 "cells": [
  {
   "cell_type": "code",
   "execution_count": 54,
   "metadata": {},
   "outputs": [],
   "source": [
    "#### https://www.youtube.com/watch?v=9-2cdbV3BTk\n",
    "#### https://github.com/minsuk-heo/deeplearning/blob/master/src/MLP_MNIST_Tensorflow.ipynb\n",
    "\n",
    "\n",
    "# import tensorflow as tf\n",
    "import tensorflow.compat.v1 as tf\n",
    "tf.disable_v2_behavior()\n",
    "# https://www.cnblogs.com/ping2yingshi/p/12920537.html\n",
    "\n",
    "import numpy as np\n",
    "import matplotlib.pyplot as plt\n",
    "\n",
    "from sklearn.model_selection import train_test_split\n"
   ]
  },
  {
   "cell_type": "code",
   "execution_count": 55,
   "metadata": {},
   "outputs": [
    {
     "name": "stdout",
     "output_type": "stream",
     "text": [
      "(60000, 28, 28)\n",
      "(10000, 28, 28)\n",
      "(60000,)\n",
      "(10000,)\n"
     ]
    }
   ],
   "source": [
    "## data\n",
    "(x_train, y_train), (x_test, y_test) = tf.keras.datasets.mnist.load_data()\n",
    "\n",
    "print(x_train.shape)\n",
    "print(x_test.shape)\n",
    "print(y_train.shape)\n",
    "print(y_test.shape)"
   ]
  },
  {
   "cell_type": "code",
   "execution_count": 56,
   "metadata": {},
   "outputs": [
    {
     "data": {
      "image/png": "[encoded data removed]",
      "text/plain": [
       "<Figure size 432x288 with 1 Axes>"
      ]
     },
     "metadata": {
      "needs_background": "light"
     },
     "output_type": "display_data"
    }
   ],
   "source": [
    "# Plot the first image in training set\n",
    "plt.gray()\n",
    "\n",
    "plt.title('Handwritten Digits (target='+ str(y_train[0])+\")\")\n",
    "plt.imshow(x_train[0])\n",
    "plt.show()"
   ]
  },
  {
   "cell_type": "code",
   "execution_count": 57,
   "metadata": {},
   "outputs": [
    {
     "name": "stdout",
     "output_type": "stream",
     "text": [
      "(60000, 784)\n",
      "(10000, 784)\n",
      "(60000,)\n",
      "(10000,)\n"
     ]
    }
   ],
   "source": [
    "## reshape into 2-D\n",
    "x_train = x_train.reshape(x_train.shape[0], x_train.shape[1]*x_train.shape[2])\n",
    "x_test = x_test.reshape(x_test.shape[0], x_test.shape[1]*x_test.shape[2])\n",
    "\n",
    "print(x_train.shape)\n",
    "print(x_test.shape)\n",
    "print(y_train.shape)\n",
    "print(y_test.shape)"
   ]
  },
  {
   "cell_type": "code",
   "execution_count": 58,
   "metadata": {},
   "outputs": [],
   "source": [
    "## normalisation\n",
    "\n",
    "x_train = x_train.astype('float32')\n",
    "x_test = x_test.astype('float32')\n",
    "\n",
    "gray_scale = 255\n",
    "x_train /= gray_scale\n",
    "x_test /= gray_scale"
   ]
  },
  {
   "cell_type": "code",
   "execution_count": 59,
   "metadata": {},
   "outputs": [
    {
     "data": {
      "text/plain": [
       "(60000, 10)"
      ]
     },
     "execution_count": 59,
     "metadata": {},
     "output_type": "execute_result"
    }
   ],
   "source": [
    "## encoding labels\n",
    "\n",
    "num_classes = 10\n",
    "y_train = tf.keras.utils.to_categorical(y_train, num_classes)\n",
    "y_test = tf.keras.utils.to_categorical(y_test, num_classes)\n",
    "\n",
    "y_train.shape"
   ]
  },
  {
   "cell_type": "code",
   "execution_count": 60,
   "metadata": {},
   "outputs": [],
   "source": [
    "## split training into train and validation\n",
    "x_train, x_val, y_train, y_val = train_test_split(x_train, y_train, test_size=0.25)"
   ]
  },
  {
   "cell_type": "code",
   "execution_count": 61,
   "metadata": {},
   "outputs": [
    {
     "name": "stdout",
     "output_type": "stream",
     "text": [
      "(45000, 784)\n",
      "(15000, 784)\n",
      "(10000, 784)\n",
      "(45000, 10)\n",
      "(10000, 10)\n",
      "(15000, 10)\n"
     ]
    }
   ],
   "source": [
    "print(x_train.shape)\n",
    "print(x_val.shape)\n",
    "print(x_test.shape)\n",
    "\n",
    "print(y_train.shape)\n",
    "print(y_test.shape)\n",
    "print(y_val.shape)"
   ]
  },
  {
   "cell_type": "code",
   "execution_count": null,
   "metadata": {},
   "outputs": [],
   "source": []
  },
  {
   "cell_type": "code",
   "execution_count": null,
   "metadata": {},
   "outputs": [],
   "source": []
  },
  {
   "cell_type": "code",
   "execution_count": 62,
   "metadata": {},
   "outputs": [],
   "source": [
    "## MLP model\n",
    "x = tf.placeholder(tf.float32, [None, 784])\n",
    "y = tf.placeholder(tf.float32, [None, 10])"
   ]
  },
  {
   "cell_type": "code",
   "execution_count": 63,
   "metadata": {},
   "outputs": [],
   "source": [
    "def mlp(x):\n",
    "    # hidden layer1\n",
    "    w1 = tf.Variable(tf.random_uniform([784,256]))\n",
    "    b1 = tf.Variable(tf.zeros([256]))\n",
    "    h1 = tf.nn.relu(tf.matmul(x, w1) + b1)\n",
    "    # hidden layer2\n",
    "    w2 = tf.Variable(tf.random_uniform([256,128]))\n",
    "    b2 = tf.Variable(tf.zeros([128]))\n",
    "    h2 = tf.nn.relu(tf.matmul(h1, w2) + b2)\n",
    "    # output layer\n",
    "    w3 = tf.Variable(tf.random_uniform([128,10]))\n",
    "    b3 = tf.Variable(tf.zeros([10]))\n",
    "    logits= tf.matmul(h2, w3) + b3\n",
    "    \n",
    "    return logits\n",
    "\n",
    "logits = mlp(x)\n"
   ]
  },
  {
   "cell_type": "code",
   "execution_count": 64,
   "metadata": {},
   "outputs": [],
   "source": [
    "## loss\n",
    "loss_op = tf.reduce_mean(tf.nn.softmax_cross_entropy_with_logits_v2(logits=logits, labels=y))"
   ]
  },
  {
   "cell_type": "code",
   "execution_count": 65,
   "metadata": {},
   "outputs": [],
   "source": [
    "## optimizer\n",
    "train_op = tf.train.AdamOptimizer(learning_rate=0.01).minimize(loss_op)"
   ]
  },
  {
   "cell_type": "code",
   "execution_count": 66,
   "metadata": {},
   "outputs": [
    {
     "name": "stdout",
     "output_type": "stream",
     "text": [
      "epoch: 0, validation accuracy: 0.17133333, loss: 10052.324245876734\n",
      "epoch: 1, validation accuracy: 0.6426, loss: 478.77253875732424\n",
      "epoch: 2, validation accuracy: 0.8477333, loss: 21.771773571438256\n",
      "epoch: 3, validation accuracy: 0.87053335, loss: 10.51532491048177\n",
      "epoch: 4, validation accuracy: 0.8832667, loss: 8.017557027604845\n",
      "epoch: 5, validation accuracy: 0.88813335, loss: 6.44589057498508\n",
      "epoch: 6, validation accuracy: 0.8919333, loss: 5.341156721115113\n",
      "epoch: 7, validation accuracy: 0.89306664, loss: 4.593703540166219\n",
      "epoch: 8, validation accuracy: 0.888, loss: 4.034516006045871\n",
      "epoch: 9, validation accuracy: 0.8844, loss: 3.5967392338646778\n",
      "epoch: 10, validation accuracy: 0.8933333, loss: 3.353362475501166\n",
      "epoch: 11, validation accuracy: 0.89493334, loss: 2.9834999190436475\n",
      "epoch: 12, validation accuracy: 0.8864667, loss: 2.7835538864135745\n",
      "epoch: 13, validation accuracy: 0.897, loss: 2.725051715638903\n",
      "epoch: 14, validation accuracy: 0.8905333, loss: 3.3142382754219906\n",
      "epoch: 15, validation accuracy: 0.8808, loss: 3.1151079257329295\n",
      "epoch: 16, validation accuracy: 0.904, loss: 2.547558267911275\n",
      "epoch: 17, validation accuracy: 0.89573336, loss: 2.2092167271508107\n",
      "epoch: 18, validation accuracy: 0.9062, loss: 2.155579980214437\n",
      "epoch: 19, validation accuracy: 0.89313334, loss: 2.07845193280114\n",
      "epoch: 20, validation accuracy: 0.7936, loss: 2.0287579907311333\n",
      "epoch: 21, validation accuracy: 0.8288, loss: 57.180398421817365\n",
      "epoch: 22, validation accuracy: 0.9024, loss: 7.569808917575411\n",
      "epoch: 23, validation accuracy: 0.9095333, loss: 4.256541691886055\n",
      "epoch: 24, validation accuracy: 0.9122, loss: 3.1149474938710533\n",
      "epoch: 25, validation accuracy: 0.91546667, loss: 2.4660910182529028\n",
      "epoch: 26, validation accuracy: 0.9159333, loss: 2.023680130640665\n",
      "epoch: 27, validation accuracy: 0.91713333, loss: 1.6975251091851127\n",
      "epoch: 28, validation accuracy: 0.9176, loss: 1.4394324382146195\n",
      "epoch: 29, validation accuracy: 0.91833335, loss: 1.2384020394749113\n",
      "epoch: 30, validation accuracy: 0.9184667, loss: 1.0892998947037589\n",
      "epoch: 31, validation accuracy: 0.9188667, loss: 0.9691486292415196\n",
      "epoch: 32, validation accuracy: 0.91653335, loss: 0.8629375987582738\n",
      "epoch: 33, validation accuracy: 0.917, loss: 0.7712775323126053\n",
      "epoch: 34, validation accuracy: 0.9172, loss: 0.699509420659807\n",
      "epoch: 35, validation accuracy: 0.92366666, loss: 0.6443895796934764\n",
      "epoch: 36, validation accuracy: 0.92593336, loss: 0.6064623124069637\n",
      "epoch: 37, validation accuracy: 0.9242, loss: 0.5689200652970208\n",
      "epoch: 38, validation accuracy: 0.91866666, loss: 0.5293107675181494\n",
      "epoch: 39, validation accuracy: 0.9130667, loss: 0.4783151242468093\n",
      "epoch: 40, validation accuracy: 0.929, loss: 0.4475253012445237\n",
      "epoch: 41, validation accuracy: 0.92873335, loss: 0.41183486911985606\n",
      "epoch: 42, validation accuracy: 0.9234667, loss: 0.366975924372673\n",
      "epoch: 43, validation accuracy: 0.9266667, loss: 0.3382711046271853\n",
      "epoch: 44, validation accuracy: 0.9325333, loss: 0.30094802048471253\n",
      "epoch: 45, validation accuracy: 0.9227333, loss: 0.30586982071399693\n",
      "epoch: 46, validation accuracy: 0.9188, loss: 0.2995494306087494\n",
      "epoch: 47, validation accuracy: 0.90853333, loss: 0.30309030231502315\n",
      "epoch: 48, validation accuracy: 0.9184667, loss: 0.3322162561946444\n",
      "epoch: 49, validation accuracy: 0.9317333, loss: 0.3502870432204671\n",
      "[Test Accuracy] : 0.9331\n"
     ]
    }
   ],
   "source": [
    "# initialization\n",
    "init = tf.global_variables_initializer()\n",
    "\n",
    "# train hyperparameters\n",
    "epoch_cnt = 50\n",
    "batch_size = 1000\n",
    "iteration = len(x_train) // batch_size\n",
    "\n",
    "# Start training\n",
    "with tf.Session() as sess:\n",
    "    # Run the initializer\n",
    "    sess.run(init)\n",
    "    for epoch in range(epoch_cnt):\n",
    "        avg_loss = 0.\n",
    "        start = 0; end = batch_size\n",
    "        \n",
    "        for i in range(iteration):\n",
    "            _, loss = sess.run([train_op, loss_op], \n",
    "                               feed_dict={x: x_train[start: end], y: y_train[start: end]})\n",
    "            start += batch_size; end += batch_size\n",
    "            # Compute average loss\n",
    "            avg_loss += loss / iteration\n",
    "            \n",
    "        # Validate model\n",
    "        preds = tf.nn.softmax(logits)  # Apply softmax to logits\n",
    "        correct_prediction = tf.equal(tf.argmax(preds, 1), tf.argmax(y, 1))\n",
    "        # Calculate accuracy\n",
    "        accuracy = tf.reduce_mean(tf.cast(correct_prediction, \"float\"))\n",
    "        cur_val_acc = accuracy.eval({x: x_val, y: y_val})\n",
    "        print(\"epoch: \"+str(epoch)+\", validation accuracy: \" \n",
    "              + str(cur_val_acc) +', loss: '+str(avg_loss))\n",
    "    \n",
    "    # Test model\n",
    "    preds = tf.nn.softmax(logits)  # Apply softmax to logits\n",
    "    correct_prediction = tf.equal(tf.argmax(preds, 1), tf.argmax(y, 1))\n",
    "    # Calculate accuracy\n",
    "    accuracy = tf.reduce_mean(tf.cast(correct_prediction, \"float\"))\n",
    "    print(\"[Test Accuracy] :\", accuracy.eval({x: x_test, y: y_test}))"
   ]
  },
  {
   "cell_type": "code",
   "execution_count": null,
   "metadata": {},
   "outputs": [],
   "source": []
  },
  {
   "cell_type": "code",
   "execution_count": null,
   "metadata": {},
   "outputs": [],
   "source": []
  }
 ],
 "metadata": {
  "kernelspec": {
   "display_name": "Python 3",
   "language": "python",
   "name": "python3"
  },
  "language_info": {
   "codemirror_mode": {
    "name": "ipython",
    "version": 3
   },
   "file_extension": ".py",
   "mimetype": "text/x-python",
   "name": "python",
   "nbconvert_exporter": "python",
   "pygments_lexer": "ipython3",
   "version": "3.8.3"
  }
 },
 "nbformat": 4,
 "nbformat_minor": 4
}
